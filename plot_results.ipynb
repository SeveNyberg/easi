{
 "cells": [
  {
   "cell_type": "code",
   "execution_count": null,
   "id": "fb6819ef-8514-4426-ae66-1102ef26a266",
   "metadata": {},
   "outputs": [],
   "source": [
    "# Electron Acceleration SImulation (EASI)\n",
    "# Simulation result plotting\n",
    "# Code author: Seve Nyberg\n",
    "\n",
    "# Github URL: https://github.com/SeveNyberg/easi\n",
    "# Model article DOI: (in prep.)\n",
    "\n",
    "from plotting_functions import *\n",
    "%load_ext autoreload\n",
    "%autoreload 2"
   ]
  },
  {
   "cell_type": "code",
   "execution_count": null,
   "id": "7564fc1c-69b4-4644-a78a-37e0d34aef79",
   "metadata": {},
   "outputs": [],
   "source": [
    "# Input the desired simulation run numbers here in a list (e.g. run_no = [1, 100] for the directories run001 and run100)\n",
    "run_no = [0]\n",
    "\n",
    "# Choose the snapshot, for now use 0 as snapshots have not been re-tested in a while\n",
    "snapshot = 0\n",
    "\n",
    "# Toggle whether to save the figures or only display them (use False or 0 / True or 1)\n",
    "savefigs = 0\n",
    "\n",
    "# Toggle whether the parameter file should be printed out before plotting\n",
    "show_prm = 0\n",
    "\n",
    "# Set your naming convention for figures\n",
    "\n",
    "# Choose which variable to use to fetch value for legends\n",
    "# var_legend = [\"E_inj_0\"]\n",
    "\n",
    "# Set the function for the string to be used in the legend, uses the variable defined in var_legend\n",
    "# fignamef = lambda x: f\"E0-{x}\"\n",
    "\n",
    "# Set your titles manually in a list (e.g. [\"run 1\"]), use titles = None if you want to plot without any titles or legends. \n",
    "titles = None\n",
    "#titles = [\"example1\", \"example2\"]\n"
   ]
  },
  {
   "cell_type": "code",
   "execution_count": null,
   "id": "9a5b7e53",
   "metadata": {},
   "outputs": [],
   "source": [
    "# Prints the parameter file if toggled so earlier\n",
    "if show_prm:\n",
    "    for nom in run_no:\n",
    "        show_prms(nom)\n",
    "        print(\"..........................\")\n",
    "        \n",
    "# Loads the particle data\n",
    "particles_list, inthist_list, pinthist_list, paths, inj_specs, parameters_list = load_all_data(run_no, snapshot)"
   ]
  },
  {
   "cell_type": "code",
   "execution_count": null,
   "id": "db1f772f",
   "metadata": {},
   "outputs": [],
   "source": [
    "# Plots the injected particle spectra in the de Hoffmann-Teller frame and the upstream plasma rest frame at the boundary\n",
    "plot_inj(parameters_list, paths, inj_specs)"
   ]
  },
  {
   "cell_type": "code",
   "execution_count": null,
   "id": "00a7fd04",
   "metadata": {},
   "outputs": [],
   "source": [
    "# Plots the 2-dimensional time integrated histograms of p vs. x, mu vs. x, and p vs. mu.\n",
    "plot_2dhist(inthist_list, parameters_list, paths, \n",
    "            zoomin = [-10,10], \n",
    "            scaler0 = 1e-8, scaler1 = 1e-4, scaler2 = 1e-5,\n",
    "            split = True, savefigs = savefigs)"
   ]
  },
  {
   "cell_type": "code",
   "execution_count": null,
   "id": "5e2d80d5",
   "metadata": {},
   "outputs": [],
   "source": [
    "# Plots the parallel and perpendicular momentum vs. x time integrated histograms \n",
    "plot_2dmomhist(pinthist_list, parameters_list, paths, \n",
    "               zoomin = [-10,10], arr_loc = [-0.05, -1.05, -5.05], units_E = True,\n",
    "               xlims = [1e-2, 1e4], ylims = [1e0, 1e12],\n",
    "               savefigs = savefigs)"
   ]
  },
  {
   "cell_type": "code",
   "execution_count": null,
   "id": "cdde0545",
   "metadata": {},
   "outputs": [],
   "source": [
    "# Plots the energy spectrum of particles escaping upstream and downstream of the shock separately\n",
    "plot_espec(particles_list, parameters_list, paths, \n",
    "           xlims = [9e-1, 1e4], ylims = [2e3, 1e11], \n",
    "           scframe = True, upstream = False, downstream = True, theory = False,\n",
    "           titles = titles, savefigs = savefigs, color_start = None)"
   ]
  },
  {
   "cell_type": "code",
   "execution_count": null,
   "id": "8b365ee3",
   "metadata": {},
   "outputs": [],
   "source": [
    "# Plots the time integrated histograms of position, momentum and pitch angle cosine separately\n",
    "plot_hist(inthist_list, parameters_list, paths, \n",
    "         zoomin = [-10,10], E_slice = [None,None],\n",
    "         upstream = False, downstream = False,\n",
    "         split = True, titles = titles, savefigs = savefigs, show = True)"
   ]
  },
  {
   "cell_type": "code",
   "execution_count": null,
   "id": "8ebc3cf4",
   "metadata": {},
   "outputs": [],
   "source": [
    "# Plots the distributions of residence times of particles escaping upstream and downstream separately\n",
    "plot_residence_t(particles_list, parameters_list, paths, \n",
    "                 E_slice = [None,None], xlims = [None, None], ylims = [None, None],\n",
    "                 upstream = True, downstream = True,\n",
    "                 savefigs = savefigs)   "
   ]
  },
  {
   "cell_type": "code",
   "execution_count": null,
   "id": "31adc4e4",
   "metadata": {},
   "outputs": [],
   "source": [
    "# Plots the shock profile for local magnetic field obliquity, flow speed and mean free path.\n",
    "plot_profiles(parameters_list, paths, zoomin = True, \n",
    "              E = 1.0, lambda_text = False, \n",
    "              mfp_ylims = (None,None), titles = titles, savefigs = savefigs, legend = False)"
   ]
  }
 ],
 "metadata": {
  "kernelspec": {
   "display_name": "easi",
   "language": "python",
   "name": "python3"
  },
  "language_info": {
   "codemirror_mode": {
    "name": "ipython",
    "version": 3
   },
   "file_extension": ".py",
   "mimetype": "text/x-python",
   "name": "python",
   "nbconvert_exporter": "python",
   "pygments_lexer": "ipython3",
   "version": "3.11.4"
  }
 },
 "nbformat": 4,
 "nbformat_minor": 5
}
